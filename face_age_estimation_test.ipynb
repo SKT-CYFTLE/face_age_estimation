{
 "cells": [
  {
   "cell_type": "code",
   "execution_count": null,
   "id": "d661114c",
   "metadata": {},
   "outputs": [],
   "source": [
    "from PIL import Image as Img\n",
    "from PIL import ImageTk\n",
    "\n",
    "class ageDataset(Dataset): \n",
    "    def __init__(self, image,label, train=True, transform=None): \n",
    "        self.transform = transform \n",
    "        self.img_list = image\n",
    "        self.label_list=label\n",
    "    def __len__(self): \n",
    "        return len(self.img_list) \n",
    "    def __getitem__(self, idx): \n",
    "        label = self.label_list[idx] \n",
    "        img = Img.fromarray(np.uint8(self.img_list[idx])).convert('RGB')\n",
    "\n",
    "        if self.transform is not None: \n",
    "            img = self.transform(img) \n",
    "            \n",
    "        return img, label "
   ]
  },
  {
   "cell_type": "code",
   "execution_count": null,
   "id": "baf12224",
   "metadata": {},
   "outputs": [],
   "source": [
    "path = \" \" #이미지 패스\n",
    "# ex)'/content/drive/MyDrive/Deepruning_framework/datasets/3.jpg'\n",
    "person = glob.glob(path)\n",
    "img = cv2.imread(path) \n",
    "img = cv2.cvtColor(img,cv2.COLOR_BGR2RGB) #pyplot에서 보기위해서 BGR을 RGB로 변환\n",
    "\n",
    "plt.imshow(img)\n",
    "plt.show()"
   ]
  },
  {
   "cell_type": "code",
   "execution_count": null,
   "id": "c4632c96",
   "metadata": {},
   "outputs": [],
   "source": [
    "num = 0\n",
    "i = 0\n",
    "non_recognition_idx = []\n",
    "face_image = []\n",
    "\n",
    "image = fr.load_image_file(person[0]) #넘파이로 이미지 불러들임임\n",
    "encodings = fr.face_encodings(image)\n",
    "\n",
    "if len(encodings) > 0:\n",
    "    biden_encoding = encodings[0]\n",
    "    top,right,bottom,left = fr.face_locations(image)[0]\n",
    "    face_image1 = image[top:bottom,left:right]\n",
    "    face_image.append(face_image1)\n",
    "else:\n",
    "    non_recognition_idx.append(i)\n",
    "    num +=1\n",
    "i = i+1\n",
    "\n",
    "if num == 1:\n",
    "  print(\"얼굴이 잘 인식되자 않습니다 다른환경에서 사진찍거나 다른사진을 사용해보세요\")\n",
    "\n",
    "else:\n",
    "  plt.imshow(face_image[0])\n",
    "  plt.show()"
   ]
  },
  {
   "cell_type": "code",
   "execution_count": null,
   "id": "114e0d97",
   "metadata": {},
   "outputs": [],
   "source": [
    "test_transform = torchvision.transforms.Compose([\n",
    "                    transforms.Resize([CFG['IMG_SIZE'], CFG['IMG_SIZE']]),#각 이미지 같은 크기로 resize\n",
    "                    transforms.ToTensor(),#이미지를 텐서로 변환\n",
    "                    transforms.Normalize(mean=(0.5, 0.5, 0.5), std=(0.5, 0.5, 0.5))#평균과 표준편차를 0.5로 정규화\n",
    "                    ])"
   ]
  },
  {
   "cell_type": "code",
   "execution_count": null,
   "id": "7c691647",
   "metadata": {},
   "outputs": [],
   "source": [
    "test_dataset= ageDataset(image=face_image,label=[0], train=False, transform=test_transform)  #validation custom dataset 구축\n",
    "test_loader = DataLoader(test_dataset, batch_size = 64, num_workers=0) #dataloadet 대입 "
   ]
  },
  {
   "cell_type": "code",
   "execution_count": null,
   "id": "ae74a9bf",
   "metadata": {},
   "outputs": [],
   "source": [
    "model1 = torchvision.models.resnet18(torchvision.models.ResNet18_Weights)"
   ]
  },
  {
   "cell_type": "code",
   "execution_count": null,
   "id": "0b4b9a4a",
   "metadata": {},
   "outputs": [],
   "source": [
    "check_point=torch.load('./best_model.pth')\n",
    "model=model1\n",
    "model=model.to(device)\n",
    "model.load_state_dict(check_point)"
   ]
  },
  {
   "cell_type": "code",
   "execution_count": null,
   "id": "26b1778f",
   "metadata": {},
   "outputs": [],
   "source": [
    "with torch.no_grad(): #파라미터 업데이트 안하기 때문에 no_grad 사용\n",
    "            for img, label in tqdm(iter(test_loader)):\n",
    "                img, label = img.to(device), label.to(device)\n",
    "\n",
    "                logit = model(img)\n",
    "                pred = logit.argmax(dim=1, keepdim=True)\n",
    "                print(logit)\n",
    "                print(pred)"
   ]
  },
  {
   "cell_type": "code",
   "execution_count": null,
   "id": "3fca57dd",
   "metadata": {},
   "outputs": [],
   "source": [
    "pred = pred.tolist()\n",
    "logit = logit.tolist()\n",
    "print(logit)\n",
    "print(pred)"
   ]
  },
  {
   "cell_type": "code",
   "execution_count": null,
   "id": "4a9a91dd",
   "metadata": {},
   "outputs": [],
   "source": [
    "if(pred[0][0]==0):\n",
    "  print(\"{:.2f}확률로 미성년자입니다.\".format(logit[0][pred[0][0]]))\n",
    "if(pred[0][0]==1):\n",
    "  print(\"{:.2f}확률로 청년층입니다.\".format(logit[0][pred[0][0]]))\n",
    "if(pred[0][0]==2):\n",
    "  print(\"{:.2f}확률로 중년층입니다.\".format(logit[0][pred[0][0]]))\n",
    "if(pred[0][0]==3):\n",
    "  print(\"{:.2f}확률로 노년층자입니다.\".format(logit[0][pred[0][0]]))"
   ]
  }
 ],
 "metadata": {
  "kernelspec": {
   "display_name": "Python 3 (ipykernel)",
   "language": "python",
   "name": "python3"
  },
  "language_info": {
   "codemirror_mode": {
    "name": "ipython",
    "version": 3
   },
   "file_extension": ".py",
   "mimetype": "text/x-python",
   "name": "python",
   "nbconvert_exporter": "python",
   "pygments_lexer": "ipython3",
   "version": "3.9.13"
  }
 },
 "nbformat": 4,
 "nbformat_minor": 5
}
